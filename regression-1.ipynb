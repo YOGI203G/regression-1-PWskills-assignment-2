{
 "cells": [
  {
   "cell_type": "markdown",
   "id": "39b5db78-ba41-4fe0-a409-f2327d90afbc",
   "metadata": {},
   "source": [
    "## Q1. Explain the concept of R-squared in linear regression models. How is it calculated, and what does it represent?"
   ]
  },
  {
   "cell_type": "markdown",
   "id": "0bf9cc07-4e35-4cd6-a724-1392ddc06db9",
   "metadata": {},
   "source": [
    "R-squared is a statistical measure that represents the proportion of the variance in the dependent variable that is explained by the independent variable(s) in a \n",
    "         linear regression model. It ranges from 0 to 1, with 1 indicating a perfect fit of the model to the data. It is calculated by dividing the explained variance \n",
    "         by the total variance of the dependent variable."
   ]
  },
  {
   "cell_type": "markdown",
   "id": "234af899-aa84-4116-8a75-57ca001e5001",
   "metadata": {},
   "source": [
    "## Q2. Define adjusted R-squared and explain how it differs from the regular R-squared. "
   ]
  },
  {
   "cell_type": "markdown",
   "id": "51f0efd9-2d57-4e46-9e77-1c0008cafe1c",
   "metadata": {},
   "source": [
    " Adjusted R-squared is a modified version of R-squared that takes into account the number of independent variables used in a regression model. \n",
    "         Unlike regular R-squared, adjusted R-squared penalizes the addition of unnecessary independent variables, making it a b"
   ]
  },
  {
   "cell_type": "markdown",
   "id": "65b56eac-86e6-435c-9445-e62d9011370a",
   "metadata": {},
   "source": [
    "## Q3. When is it more appropriate to use adjusted R-squared?"
   ]
  },
  {
   "cell_type": "markdown",
   "id": "d2d4c0d0-503b-4770-9847-334424155f53",
   "metadata": {},
   "source": [
    "Adjusted R-squared is more appropriate when comparing multiple regression models with different numbers of independent variables. \n",
    "         It adjusts for the number of variables in the model, penalizing models with too many variables that do not contribute signi"
   ]
  },
  {
   "cell_type": "markdown",
   "id": "eeb1ea6c-525b-4c7d-9f0c-5acea7dcfec3",
   "metadata": {},
   "source": [
    "## Q4. What are RMSE, MSE, and MAE in the context of regression analysis? How are these metrics calculated, and what do they represent?"
   ]
  },
  {
   "cell_type": "markdown",
   "id": "9ce72ee6-5c08-487f-a7a5-321cbe26b106",
   "metadata": {},
   "source": [
    " RMSE, MSE, and MAE are metrics used to evaluate the performance of regression models. RMSE represents the root mean squared error, \n",
    "         MSE represents the mean squared error, and MAE represents the mean absolute error. These metrics measure the difference between \n",
    "         the predicted and actual values of the target variable, with RMSE and MSE giving more weight to larger errors."
   ]
  },
  {
   "cell_type": "markdown",
   "id": "36fd3d4c-d907-4fc8-9ddb-c23d28d074a5",
   "metadata": {},
   "source": [
    "## Q5. Discuss the advantages and disadvantages of using RMSE, MSE, and MAE as evaluation metrics in regression analysis."
   ]
  },
  {
   "cell_type": "markdown",
   "id": "f59b4ddd-e9b3-4895-bfb3-c2914fb6b0f5",
   "metadata": {},
   "source": [
    "RMSE and MSE take into account the magnitude of errors, giving more weight to larger errors. This means that these metrics can be more sensitive to outliers, \n",
    "         which are data points that are significantly different from other data points. On the other hand, MAE treats all errors equally and is more robust to outliers.\n",
    "         One disadvantage of RMSE, MSE, and MAE is that they do not provide information about the direction of errors, i.e., whether the model is overestimating or \n",
    "         underestimating the target variable. Another disadvantage is that they do not take into account the relative importan"
   ]
  },
  {
   "cell_type": "markdown",
   "id": "b9c98e7c-3b59-4276-b42a-dff16e05e099",
   "metadata": {},
   "source": [
    "## Q6. Explain the concept of Lasso regularization. How does it differ from Ridge regularization, and when is it more appropriate to use?"
   ]
  },
  {
   "cell_type": "markdown",
   "id": "7f8498cd-57c1-4912-8dd8-a344bc4c4ec8",
   "metadata": {},
   "source": [
    "Lasso regularization is a technique used to prevent overfitting in linear regression models by adding a penalty term to the cost function. \n",
    "         It differs from Ridge regularization in that it shrinks some of the model coefficients to zero, effectively performing feature selection. \n",
    "         Lasso regularization is more appropriate when the number of features is large and only a few are expected to be importan"
   ]
  },
  {
   "cell_type": "markdown",
   "id": "06043861-fcbb-47cc-ab6f-a7152b0b776e",
   "metadata": {},
   "source": [
    "## Q7. How do regularized linear models help to prevent overfitting in machine learning? Provide an example to illustrate."
   ]
  },
  {
   "cell_type": "markdown",
   "id": "a155c60d-a912-4a8c-85ab-38eac85e4c8a",
   "metadata": {},
   "source": [
    "Regularized linear models are a type of machine learning algorithm that can help prevent overfitting. They work by adding a penalty term to the loss function, \n",
    "         which discourages the model from overemphasizing any one feature or parameter. This encourages the model to generalize better to new data, \n",
    "         rather than simply memorizing the training data. For example, Lasso regression is a type of regularized linear model that can be used to select important \n",
    "         features and reduce overfitting in a dataset by shrinking the coefficients of less important features towards zero."
   ]
  },
  {
   "cell_type": "markdown",
   "id": "c55dbf75-7cd4-4b10-8fdc-e17ae7296ea0",
   "metadata": {},
   "source": [
    "## Q8. Discuss the limitations of regularized linear models and explain why they may not always be the best choice for regression analysis."
   ]
  },
  {
   "cell_type": "markdown",
   "id": "b836236a-11ec-477f-8dd6-d73429be48c4",
   "metadata": {},
   "source": [
    "limitation is that they assume a linear relationship between the dependent and independent variables, which may not be true in real-world scenarios. \n",
    "         Additionally, regularized linear models require tuning of the regularization parameter, which can be time-consuming and requires expertise. \n",
    "         As a result, other non-linear regression models may be better suited for more complex data."
   ]
  },
  {
   "cell_type": "markdown",
   "id": "25487181-3b30-45bf-a04b-bec784d8ac9d",
   "metadata": {},
   "source": [
    "## Q9. You are comparing the performance of two regression models using different evaluation metrics.Model A has an RMSE of 10, while Model B has an MAE of 8. Which model would you choose as the better performer, and why? Are there any limitations to your choice of metric?"
   ]
  },
  {
   "cell_type": "markdown",
   "id": "e668d034-4d8f-48d2-814c-2a785f4aab3f",
   "metadata": {},
   "source": [
    "The choice of the better model depends on the specific context and goals. If the goal is to minimize the overall magnitude of errors, choose Model A, \n",
    "         as it has a lower RMSE. But if the goal is to minimize the average magnitude of errors, Model B, with the lower MAE, may be preferred. \n",
    "         However, both metrics have limitations as they treat all errors equally."
   ]
  },
  {
   "cell_type": "markdown",
   "id": "7479bf93-4918-4c62-b96a-f049fa9108c9",
   "metadata": {},
   "source": [
    "## Q10. You are comparing the performance of two regularized linear models using different types of regularization. Model A uses Ridge regularization with a regularization parameter of 0.1, while Model B uses Lasso regularization with a regularization parameter of 0.5. Which model would you choose as the better performer, and why? Are there any trade-offs or limitations to your choice of regularization method?"
   ]
  },
  {
   "cell_type": "markdown",
   "id": "1c480ba5-c7bb-4483-b280-690958859f90",
   "metadata": {},
   "source": [
    " The choice of the better performing model depends on the specific context and goals of the analysis. Ridge regularization (Model A) is better suited for situations \n",
    "         where there are many variables with small effects. Lasso regularization (Model B) is better suited for situations where there are only a few variables with \n",
    "         large effects. However, Lasso may perform feature selection, which may be an advantage or disadvantage depending on the situation. The choice of regularization \n",
    "         method should be based on the specific goals and characteristics of the data."
   ]
  },
  {
   "cell_type": "code",
   "execution_count": null,
   "id": "e799fabb-af7a-4a53-b725-5a010ee2c180",
   "metadata": {},
   "outputs": [],
   "source": []
  }
 ],
 "metadata": {
  "kernelspec": {
   "display_name": "Python 3 (ipykernel)",
   "language": "python",
   "name": "python3"
  },
  "language_info": {
   "codemirror_mode": {
    "name": "ipython",
    "version": 3
   },
   "file_extension": ".py",
   "mimetype": "text/x-python",
   "name": "python",
   "nbconvert_exporter": "python",
   "pygments_lexer": "ipython3",
   "version": "3.10.8"
  }
 },
 "nbformat": 4,
 "nbformat_minor": 5
}
